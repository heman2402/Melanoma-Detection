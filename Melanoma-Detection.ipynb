# import required libraries

import numpy as np
import pandas as pd
import matplotlib.pyplot as plt
import seaborn as se

%matplotlib inline

from sklearn.preprocessing import scale
from sklearn.model_selection import train_test_split
from sklearn.linear_model import Ridge, Lasso
from sklearn.metrics import mean_squared_error
from sklearn.model_selection import GridSearchCV

from sklearn.feature_selection import RFE
from sklearn.linear_model import LinearRegression

import warnings 
warnings.filterwarnings('ignore')
